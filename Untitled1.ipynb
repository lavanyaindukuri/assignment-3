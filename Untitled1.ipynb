{
 "cells": [
  {
   "cell_type": "code",
   "execution_count": null,
   "id": "c6d230b3",
   "metadata": {},
   "outputs": [],
   "source": [
    "1. Why are functions advantageous to have in your programs?\n",
    "A. Functions reduce the need for duplicate code.It makes programs shorter,easier to read,easier to update.\n",
    "\n",
    "2. When does the code in a function run, when it'sspecified or when it's called?\n",
    "A. The code in a function execute when the function is called,nor when the function s defined.\n",
    "\n",
    "3. What statement creates a function?\n",
    "A. def keyword.\n",
    "\n",
    "4. What is the difference between a function and a function call?\n",
    "A.A function is ablock of codes that does a certain operations & a result.function call is the code used to pass control to a function.\n",
    "\n",
    "5. How many global scopes are there in a Python program? How many local scopes?\n",
    "A. global scope,local scope ,enclosing scope and build in scope .Local scope is limited to the function where it is defined.\n",
    "\n",
    "6. What happens to variables in a local scope when the function call returns?\n",
    "A. the local variables are destroyed when the function terminates and are then recreated when the function starts again.\n",
    "\n",
    "7. What is the concept of a return value? Is it possible to have a return value in an expression?\n",
    "A. It returns the function when it completes the task.\n",
    "\n",
    "8. If a function does not have a return statement, what is the return value of a call to that function?\n",
    "A. It automatically returns to the calling function after the last statement of the called function is executed.Undefined.\n",
    "\n",
    "9. How do you make a function variable refer to the global variable?\n",
    "A. global keyword\n",
    "10. What is the data type of None?\n",
    "A. it is used to define null vaue.\n",
    "\n",
    "11. What does the sentence import areallyourpetsnamederic do? \n",
    "A.  imports the module named as areallyourpetsnamederic.\n",
    "\n",
    "12. If you had a bacon() feature in a spam module, what would you call it after importing spam?\n",
    "A.  This function can be called with spam.bacon().\n",
    "\n",
    "13. What can you do to save a programme from crashing if it encounters an error?\n",
    "A. Place the line of code that might cause an error in a try clause.\n",
    "\n",
    "14. What is the purpose of the try clause? What is the purpose of the except clause?\n",
    "A. The code that could potentially cause an error goes in the try clause.\n",
    "   The code that executes if an error happens goes in the expect clause."
   ]
  }
 ],
 "metadata": {
  "kernelspec": {
   "display_name": "Python 3 (ipykernel)",
   "language": "python",
   "name": "python3"
  },
  "language_info": {
   "codemirror_mode": {
    "name": "ipython",
    "version": 3
   },
   "file_extension": ".py",
   "mimetype": "text/x-python",
   "name": "python",
   "nbconvert_exporter": "python",
   "pygments_lexer": "ipython3",
   "version": "3.9.13"
  }
 },
 "nbformat": 4,
 "nbformat_minor": 5
}
